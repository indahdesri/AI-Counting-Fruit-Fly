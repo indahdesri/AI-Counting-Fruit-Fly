{
  "nbformat": 4,
  "nbformat_minor": 0,
  "metadata": {
    "colab": {
      "provenance": [],
      "authorship_tag": "ABX9TyO3epAexdOR0qB7OHGgj5Re",
      "include_colab_link": true
    },
    "kernelspec": {
      "name": "python3",
      "display_name": "Python 3"
    },
    "language_info": {
      "name": "python"
    }
  },
  "cells": [
    {
      "cell_type": "markdown",
      "metadata": {
        "id": "view-in-github",
        "colab_type": "text"
      },
      "source": [
        "<a href=\"https://colab.research.google.com/github/indahdesri/AI-Counting-Fruit-Fly/blob/main/test.ipynb\" target=\"_parent\"><img src=\"https://colab.research.google.com/assets/colab-badge.svg\" alt=\"Open In Colab\"/></a>"
      ]
    },
    {
      "cell_type": "code",
      "execution_count": 4,
      "metadata": {
        "id": "nO4FbawmD16N"
      },
      "outputs": [],
      "source": [
        "!git config --global user.email \"indah.desri@student.umn.ac.id\"\n",
        "!git config --global user.name \"indahdesri\""
      ]
    },
    {
      "cell_type": "code",
      "source": [
        "username =\"indahdesri\"\n",
        "repo =\"AI-Counting-Fruit-Fly\"\n",
        "token =\"...\""
      ],
      "metadata": {
        "id": "y3MzfQGTHKo4"
      },
      "execution_count": 5,
      "outputs": []
    },
    {
      "cell_type": "code",
      "source": [
        "! git clone ...."
      ],
      "metadata": {
        "colab": {
          "base_uri": "https://localhost:8080/"
        },
        "collapsed": true,
        "id": "62DupTLdHj92",
        "outputId": "626b0527-bbde-451c-f41e-7c64a6be4bd4"
      },
      "execution_count": 6,
      "outputs": [
        {
          "output_type": "stream",
          "name": "stdout",
          "text": [
            "fatal: destination path 'AI-Counting-Fruit-Fly' already exists and is not an empty directory.\n"
          ]
        }
      ]
    },
    {
      "cell_type": "markdown",
      "source": [
        "DETECTION"
      ],
      "metadata": {
        "id": "Wt-eL8lqTIxG"
      }
    },
    {
      "cell_type": "code",
      "source": [
        "!python /content/AI-Counting-Fruit-Fly/yolov5/detect.py --weights /content/AI-Counting-Fruit-Fly/model.pt --conf 0.25 --source /content/AI-Counting-Fruit-Fly/Dataset_Test --save-txt"
      ],
      "metadata": {
        "colab": {
          "base_uri": "https://localhost:8080/"
        },
        "collapsed": true,
        "id": "4M9N1RzENCN8",
        "outputId": "856f986e-39fd-4605-f794-e5ef12e60199"
      },
      "execution_count": 26,
      "outputs": [
        {
          "output_type": "stream",
          "name": "stdout",
          "text": [
            "\u001b[34m\u001b[1mdetect: \u001b[0mweights=['/content/AI-Counting-Fruit-Fly/model.pt'], source=/content/AI-Counting-Fruit-Fly/Dataset_Test, data=yolov5/data/coco128.yaml, imgsz=[640, 640], conf_thres=0.25, iou_thres=0.45, max_det=1000, device=, view_img=False, save_txt=True, save_format=0, save_csv=False, save_conf=False, save_crop=False, nosave=False, classes=None, agnostic_nms=False, augment=False, visualize=False, update=False, project=yolov5/runs/detect, name=exp, exist_ok=False, line_thickness=3, hide_labels=False, hide_conf=False, half=False, dnn=False, vid_stride=1\n",
            "YOLOv5 🚀 v7.0-416-gfe1d4d99 Python-3.11.12 torch-2.6.0+cu124 CPU\n",
            "\n",
            "Fusing layers... \n",
            "Model summary: 157 layers, 7015519 parameters, 0 gradients, 15.8 GFLOPs\n",
            "image 1/10 /content/AI-Counting-Fruit-Fly/Dataset_Test/20240312_093607_jpg.rf.b20e35f06f817edfc131c9d59cecceb6.jpg: 640x640 21 lalats, 483.2ms\n",
            "image 2/10 /content/AI-Counting-Fruit-Fly/Dataset_Test/20240312_094118_jpg.rf.8465075e6e7dc4d580eb414a2803f8e8.jpg: 640x640 21 lalats, 426.5ms\n",
            "image 3/10 /content/AI-Counting-Fruit-Fly/Dataset_Test/20240312_100224_jpg.rf.0f3d3c306748107317db55b3c30ea56d.jpg: 640x640 21 lalats, 372.3ms\n",
            "image 4/10 /content/AI-Counting-Fruit-Fly/Dataset_Test/20240712_113344_jpg.rf.d65c09d2d1c139f93455980ca0ad6e73.jpg: 640x640 21 lalats, 363.1ms\n",
            "image 5/10 /content/AI-Counting-Fruit-Fly/Dataset_Test/20240712_120113_jpg.rf.e3cc6f5cb15c519567be4210ecc6976b.jpg: 640x640 16 lalats, 368.8ms\n",
            "image 6/10 /content/AI-Counting-Fruit-Fly/Dataset_Test/20240713_111050_jpg.rf.b4475983ccf32019c8582f9a154e56ef.jpg: 640x640 11 lalats, 366.6ms\n",
            "image 7/10 /content/AI-Counting-Fruit-Fly/Dataset_Test/20240713_112340_jpg.rf.4f42365f6b71e0f903873ea1ca83fad0.jpg: 640x640 10 lalats, 357.2ms\n",
            "image 8/10 /content/AI-Counting-Fruit-Fly/Dataset_Test/20240808_141234_jpg.rf.5733d30b7559a168eb697c3b62bcd7dd.jpg: 640x640 30 lalats, 369.3ms\n",
            "image 9/10 /content/AI-Counting-Fruit-Fly/Dataset_Test/DSC00351_JPG.rf.42148b246f217c6ea06f30478956c034.jpg: 640x640 13 lalats, 354.8ms\n",
            "image 10/10 /content/AI-Counting-Fruit-Fly/Dataset_Test/DSC00569_JPG.rf.ac340981d9fd0f744363bea3223f8ac8.jpg: 640x640 10 lalats, 359.0ms\n",
            "Speed: 2.6ms pre-process, 382.1ms inference, 1.4ms NMS per image at shape (1, 3, 640, 640)\n",
            "Results saved to \u001b[1myolov5/runs/detect/exp\u001b[0m\n",
            "10 labels saved to yolov5/runs/detect/exp/labels\n"
          ]
        }
      ]
    },
    {
      "cell_type": "markdown",
      "source": [
        "COUNTING"
      ],
      "metadata": {
        "id": "bmWFk-dLTLSM"
      }
    },
    {
      "cell_type": "code",
      "source": [
        "import os\n",
        "import cv2\n",
        "\n",
        "\n",
        "image_folder = \"/content/AI-Counting-Fruit-Fly/yolov5/runs/detect/exp\"\n",
        "label_folder = \"/content/yolov5/runs/detect/exp4/labels\"\n",
        "output_folder = \"/content/output2\"\n",
        "\n",
        "\n",
        "os.makedirs(output_folder, exist_ok=True)\n",
        "\n",
        "for image_file in os.listdir(image_folder):\n",
        "    if image_file.endswith((\".jpg\", \".png\", \".jpeg\")):\n",
        "        image_path = os.path.join(image_folder, image_file)\n",
        "\n",
        "\n",
        "        image_name = os.path.splitext(image_file)[0]\n",
        "        label_file = os.path.join(label_folder, f\"{image_name}.txt\")\n",
        "        output_image_path = os.path.join(output_folder, f\"{image_name}_output.jpg\")\n",
        "\n",
        "\n",
        "        class_counts = {}\n",
        "\n",
        "        if os.path.exists(label_file):\n",
        "            with open(label_file, \"r\") as f:\n",
        "                lines = f.readlines()\n",
        "                for line in lines:\n",
        "                    class_id = line.strip().split()[0]\n",
        "                    class_counts[class_id] = class_counts.get(class_id, 0) + 1\n",
        "        else:\n",
        "            print(f\"File label tidak ditemukan: {label_file}\")\n",
        "            continue\n",
        "\n",
        "\n",
        "        image = cv2.imread(image_path)\n",
        "        if image is None:\n",
        "            print(f\"Gambar tidak ditemukan: {image_path}\")\n",
        "            continue\n",
        "\n",
        "\n",
        "        target_size = 448\n",
        "        image_resized = cv2.resize(image, (target_size, target_size))\n",
        "\n",
        "\n",
        "        text_lines = [f\"Jumlah Lalat: {v}\" for k, v in class_counts.items()]\n",
        "        text = \" | \".join(text_lines) if text_lines else \"Tidak ada objek terdeteksi\"\n",
        "\n",
        "        font = cv2.FONT_HERSHEY_SIMPLEX\n",
        "        font_scale = 0.5\n",
        "        font_color = (255, 255, 255)\n",
        "        thickness = 2\n",
        "\n",
        "\n",
        "        text_size = cv2.getTextSize(text, font, font_scale, thickness)[0]\n",
        "\n",
        "\n",
        "        border_size = 40\n",
        "        border_color = (0, 0, 0)\n",
        "        image_with_border = cv2.copyMakeBorder(\n",
        "            image_resized,\n",
        "            top=border_size, bottom=border_size,\n",
        "            left=border_size, right=border_size,\n",
        "            borderType=cv2.BORDER_CONSTANT,\n",
        "            value=border_color\n",
        "        )\n",
        "\n",
        "\n",
        "        text_x = (image_with_border.shape[1] - text_size[0]) // 2\n",
        "        text_y = border_size // 2 + text_size[1] // 2\n",
        "\n",
        "\n",
        "        cv2.putText(image_with_border, text, (text_x, text_y), font, font_scale, font_color, thickness)\n",
        "\n",
        "\n",
        "        success = cv2.imwrite(output_image_path, image_with_border)\n",
        "        if success:\n",
        "            print(f\"Hasil: {output_image_path}\")\n",
        "        else:\n",
        "            print(f\"Gagal menyimpan gambar: {output_image_path}\")\n"
      ],
      "metadata": {
        "colab": {
          "base_uri": "https://localhost:8080/"
        },
        "id": "93A4VcI8NdpM",
        "outputId": "b02c57a5-1629-4604-e4f0-52ca3dae9e50"
      },
      "execution_count": 27,
      "outputs": [
        {
          "output_type": "stream",
          "name": "stdout",
          "text": [
            "Hasil: /content/output2/20240712_113344_jpg.rf.d65c09d2d1c139f93455980ca0ad6e73_output.jpg\n",
            "Hasil: /content/output2/20240312_100224_jpg.rf.0f3d3c306748107317db55b3c30ea56d_output.jpg\n",
            "Hasil: /content/output2/20240713_111050_jpg.rf.b4475983ccf32019c8582f9a154e56ef_output.jpg\n",
            "Hasil: /content/output2/DSC00569_JPG.rf.ac340981d9fd0f744363bea3223f8ac8_output.jpg\n",
            "Hasil: /content/output2/DSC00351_JPG.rf.42148b246f217c6ea06f30478956c034_output.jpg\n",
            "Hasil: /content/output2/20240312_093607_jpg.rf.b20e35f06f817edfc131c9d59cecceb6_output.jpg\n",
            "Hasil: /content/output2/20240713_112340_jpg.rf.4f42365f6b71e0f903873ea1ca83fad0_output.jpg\n",
            "Hasil: /content/output2/20240808_141234_jpg.rf.5733d30b7559a168eb697c3b62bcd7dd_output.jpg\n",
            "Hasil: /content/output2/20240712_120113_jpg.rf.e3cc6f5cb15c519567be4210ecc6976b_output.jpg\n",
            "Hasil: /content/output2/20240312_094118_jpg.rf.8465075e6e7dc4d580eb414a2803f8e8_output.jpg\n"
          ]
        }
      ]
    }
  ]
}